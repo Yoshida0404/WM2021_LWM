{
  "nbformat": 4,
  "nbformat_minor": 0,
  "metadata": {
    "colab": {
      "name": "LanguageWorldModel-devdrive.ipynb のコピー",
      "provenance": [],
      "machine_shape": "hm",
      "include_colab_link": true
    },
    "kernelspec": {
      "name": "python3",
      "display_name": "Python 3"
    },
    "language_info": {
      "name": "python"
    },
    "accelerator": "GPU"
  },
  "cells": [
    {
      "cell_type": "markdown",
      "metadata": {
        "id": "view-in-github",
        "colab_type": "text"
      },
      "source": [
        "<a href=\"https://colab.research.google.com/github/mashimashica/WM2021_LWM/blob/%232/LanguageWorldModel_devdrive.ipynb\" target=\"_parent\"><img src=\"https://colab.research.google.com/assets/colab-badge.svg\" alt=\"Open In Colab\"/></a>"
      ]
    },
    {
      "cell_type": "markdown",
      "source": [
        "# インストール"
      ],
      "metadata": {
        "id": "OD2qLXEVC7x0"
      }
    },
    {
      "cell_type": "code",
      "source": [
        "!nvidia-smi"
      ],
      "metadata": {
        "colab": {
          "base_uri": "https://localhost:8080/"
        },
        "id": "fSFn_CMdS4s_",
        "outputId": "8968036a-efa6-4edb-f6be-304817b9a6a2"
      },
      "execution_count": 46,
      "outputs": [
        {
          "output_type": "stream",
          "name": "stdout",
          "text": [
            "Fri Apr 15 11:47:23 2022       \n",
            "+-----------------------------------------------------------------------------+\n",
            "| NVIDIA-SMI 460.32.03    Driver Version: 460.32.03    CUDA Version: 11.2     |\n",
            "|-------------------------------+----------------------+----------------------+\n",
            "| GPU  Name        Persistence-M| Bus-Id        Disp.A | Volatile Uncorr. ECC |\n",
            "| Fan  Temp  Perf  Pwr:Usage/Cap|         Memory-Usage | GPU-Util  Compute M. |\n",
            "|                               |                      |               MIG M. |\n",
            "|===============================+======================+======================|\n",
            "|   0  Tesla P100-PCIE...  Off  | 00000000:00:04.0 Off |                    0 |\n",
            "| N/A   37C    P0    26W / 250W |      0MiB / 16280MiB |      0%      Default |\n",
            "|                               |                      |                  N/A |\n",
            "+-------------------------------+----------------------+----------------------+\n",
            "                                                                               \n",
            "+-----------------------------------------------------------------------------+\n",
            "| Processes:                                                                  |\n",
            "|  GPU   GI   CI        PID   Type   Process name                  GPU Memory |\n",
            "|        ID   ID                                                   Usage      |\n",
            "|=============================================================================|\n",
            "|  No running processes found                                                 |\n",
            "+-----------------------------------------------------------------------------+\n"
          ]
        }
      ]
    },
    {
      "cell_type": "code",
      "source": [
        "!apt install xvfb\n",
        "!pip install pyopengl\n",
        "!git clone https://github.com/kandouss/marlgrid\n",
        "!pip install -e ./marlgrid"
      ],
      "metadata": {
        "colab": {
          "base_uri": "https://localhost:8080/"
        },
        "id": "SEoG67lhUTB9",
        "outputId": "5ec12b31-08cb-471f-c4c7-989a0c4ba548"
      },
      "execution_count": 47,
      "outputs": [
        {
          "output_type": "stream",
          "name": "stdout",
          "text": [
            "Reading package lists... Done\n",
            "Building dependency tree       \n",
            "Reading state information... Done\n",
            "xvfb is already the newest version (2:1.19.6-1ubuntu4.10).\n",
            "0 upgraded, 0 newly installed, 0 to remove and 39 not upgraded.\n",
            "Requirement already satisfied: pyopengl in /usr/local/lib/python3.7/dist-packages (3.1.6)\n",
            "fatal: destination path 'marlgrid' already exists and is not an empty directory.\n",
            "Obtaining file:///content/drive/MyDrive/WM2021_LWM-vae/language_world_models/marlgrid\n",
            "Requirement already satisfied: numpy in /usr/local/lib/python3.7/dist-packages (from marlgrid==0.0.5) (1.21.5)\n",
            "Requirement already satisfied: tqdm in /usr/local/lib/python3.7/dist-packages (from marlgrid==0.0.5) (4.64.0)\n",
            "Requirement already satisfied: gym in /usr/local/lib/python3.7/dist-packages (from marlgrid==0.0.5) (0.17.3)\n",
            "Requirement already satisfied: gym-minigrid in /usr/local/lib/python3.7/dist-packages (from marlgrid==0.0.5) (1.0.3)\n",
            "Requirement already satisfied: numba in /usr/local/lib/python3.7/dist-packages (from marlgrid==0.0.5) (0.51.2)\n",
            "Requirement already satisfied: pyglet<=1.5.0,>=1.4.0 in /usr/local/lib/python3.7/dist-packages (from gym->marlgrid==0.0.5) (1.5.0)\n",
            "Requirement already satisfied: scipy in /usr/local/lib/python3.7/dist-packages (from gym->marlgrid==0.0.5) (1.4.1)\n",
            "Requirement already satisfied: cloudpickle<1.7.0,>=1.2.0 in /usr/local/lib/python3.7/dist-packages (from gym->marlgrid==0.0.5) (1.3.0)\n",
            "Requirement already satisfied: future in /usr/local/lib/python3.7/dist-packages (from pyglet<=1.5.0,>=1.4.0->gym->marlgrid==0.0.5) (0.16.0)\n",
            "Requirement already satisfied: llvmlite<0.35,>=0.34.0.dev0 in /usr/local/lib/python3.7/dist-packages (from numba->marlgrid==0.0.5) (0.34.0)\n",
            "Requirement already satisfied: setuptools in /usr/local/lib/python3.7/dist-packages (from numba->marlgrid==0.0.5) (57.4.0)\n",
            "Installing collected packages: marlgrid\n",
            "  Attempting uninstall: marlgrid\n",
            "    Found existing installation: marlgrid 0.0.5\n",
            "    Can't uninstall 'marlgrid'. No files were found to uninstall.\n",
            "  Running setup.py develop for marlgrid\n",
            "Successfully installed marlgrid-0.0.5\n"
          ]
        }
      ]
    },
    {
      "cell_type": "code",
      "source": [
        "#ドライブをマウントする\n",
        "from google.colab import drive\n",
        "drive.mount('/content/drive')"
      ],
      "metadata": {
        "colab": {
          "base_uri": "https://localhost:8080/"
        },
        "id": "WwEfdh8DZMyq",
        "outputId": "46ff9bd9-4193-467f-b694-010c4217fa6d"
      },
      "execution_count": 48,
      "outputs": [
        {
          "output_type": "stream",
          "name": "stdout",
          "text": [
            "Drive already mounted at /content/drive; to attempt to forcibly remount, call drive.mount(\"/content/drive\", force_remount=True).\n"
          ]
        }
      ]
    },
    {
      "cell_type": "markdown",
      "source": [
        "# ソースコードのコピー\n",
        "パスは適宜，変更する\n",
        "修正を反映する場合は，こちらをまた実行する"
      ],
      "metadata": {
        "id": "12HA0rFM45LC"
      }
    },
    {
      "cell_type": "code",
      "execution_count": 49,
      "metadata": {
        "colab": {
          "base_uri": "https://localhost:8080/"
        },
        "id": "3Zg74AIcBtK2",
        "outputId": "06071c04-be30-4f28-8d57-a0cbac3b0e65"
      },
      "outputs": [
        {
          "output_type": "stream",
          "name": "stdout",
          "text": [
            "/content/drive/MyDrive/WM2021_LWM-vae/language_world_models\n"
          ]
        }
      ],
      "source": [
        "# %cd /content/\n",
        "# !rm -rf /content/WM2021_LWM/\n",
        "# !cp -r \"/content/drive/MyDrive/WM2021_LWM-vae/language_world_models\" /content/WM2021_LWM/\n",
        "# %cd /content/WM2021_LWM/\n",
        "\n",
        "%cd /content/drive/MyDrive/WM2021_LWM-vae/language_world_models"
      ]
    },
    {
      "cell_type": "markdown",
      "source": [
        "# 訓練"
      ],
      "metadata": {
        "id": "c09FR8FT5AVa"
      }
    },
    {
      "cell_type": "markdown",
      "source": [
        "resultsディレクトリに訓練途中の様子の画像が格納される"
      ],
      "metadata": {
        "id": "eLLAzvJC5OFd"
      }
    },
    {
      "cell_type": "code",
      "source": [
        "!xvfb-run -s \"-screen 0 1400x900x24\" python train.py --save_freq=500"
      ],
      "metadata": {
        "id": "GDp3tfZTbiy4",
        "colab": {
          "base_uri": "https://localhost:8080/"
        },
        "outputId": "52f2a33d-a793-45c7-8c04-d8cb08455716"
      },
      "execution_count": null,
      "outputs": [
        {
          "output_type": "stream",
          "name": "stdout",
          "text": [
            "VAE(\n",
            "  (encoder): Encoder(\n",
            "    (conv1): Conv2d(3, 32, kernel_size=(4, 4), stride=(2, 2))\n",
            "    (conv2): Conv2d(32, 64, kernel_size=(4, 4), stride=(2, 2))\n",
            "    (conv3): Conv2d(64, 128, kernel_size=(4, 4), stride=(2, 2))\n",
            "    (fc): Linear(in_features=512, out_features=64, bias=True)\n",
            "  )\n",
            "  (decoder): Decoder(\n",
            "    (fc1): Linear(in_features=64, out_features=256, bias=True)\n",
            "    (deconv1): ConvTranspose2d(256, 128, kernel_size=(5, 5), stride=(2, 2))\n",
            "    (deconv2): ConvTranspose2d(128, 64, kernel_size=(6, 6), stride=(2, 2))\n",
            "    (deconv3): ConvTranspose2d(64, 3, kernel_size=(6, 6), stride=(2, 2))\n",
            "  )\n",
            ")\n",
            "/usr/local/lib/python3.7/dist-packages/torch/nn/functional.py:1806: UserWarning: nn.functional.sigmoid is deprecated. Use torch.sigmoid instead.\n",
            "  warnings.warn(\"nn.functional.sigmoid is deprecated. Use torch.sigmoid instead.\")\n",
            "episode: 100 / 200000 (10 sec) \tVAE : Train Lower Bound: 108.137260  (CC : 42.942608 p : -4.158747 MSE : 42.942608)\n",
            "episode: 200 / 200000 (11 sec) \tVAE : Train Lower Bound: 25.206549  (CC : 19.373882 p : -4.158777 MSE : 19.373882)\n",
            "episode: 300 / 200000 (11 sec) \tVAE : Train Lower Bound: 18.640638  (CC : 19.039917 p : -4.158781 MSE : 19.039917)\n",
            "episode: 400 / 200000 (11 sec) \tVAE : Train Lower Bound: 18.074171  (CC : 17.684834 p : -4.158758 MSE : 17.684834)\n",
            "episode: 500 / 200000 (11 sec) \tVAE : Train Lower Bound: 17.667810  (CC : 17.072651 p : -4.158783 MSE : 17.072651)\n",
            "episode: 600 / 200000 (11 sec) \tVAE : Train Lower Bound: 17.698320  (CC : 17.073816 p : -4.158785 MSE : 17.073816)\n",
            "episode: 700 / 200000 (11 sec) \tVAE : Train Lower Bound: 17.545546  (CC : 18.706579 p : -4.158737 MSE : 18.706579)\n",
            "episode: 800 / 200000 (11 sec) \tVAE : Train Lower Bound: 17.453209  (CC : 17.458740 p : -4.158712 MSE : 17.458740)\n",
            "episode: 900 / 200000 (11 sec) \tVAE : Train Lower Bound: 17.476984  (CC : 18.234871 p : -4.158750 MSE : 18.234871)\n",
            "episode: 1000 / 200000 (11 sec) \tVAE : Train Lower Bound: 17.441774  (CC : 17.060635 p : -4.158758 MSE : 17.060635)\n",
            "episode: 1100 / 200000 (11 sec) \tVAE : Train Lower Bound: 17.557774  (CC : 17.559347 p : -4.158743 MSE : 17.559347)\n",
            "episode: 1200 / 200000 (11 sec) \tVAE : Train Lower Bound: 17.584631  (CC : 16.824940 p : -4.158744 MSE : 16.824940)\n",
            "episode: 1300 / 200000 (11 sec) \tVAE : Train Lower Bound: 17.360600  (CC : 17.561996 p : -4.158779 MSE : 17.561996)\n",
            "episode: 1400 / 200000 (11 sec) \tVAE : Train Lower Bound: 17.643589  (CC : 15.799369 p : -4.158780 MSE : 15.799369)\n",
            "episode: 1500 / 200000 (11 sec) \tVAE : Train Lower Bound: 17.599009  (CC : 17.953430 p : -4.158745 MSE : 17.953430)\n",
            "episode: 1600 / 200000 (11 sec) \tVAE : Train Lower Bound: 17.439102  (CC : 17.952469 p : -4.158734 MSE : 17.952469)\n",
            "episode: 1700 / 200000 (11 sec) \tVAE : Train Lower Bound: 17.694687  (CC : 17.553652 p : -4.158754 MSE : 17.553652)\n",
            "episode: 1800 / 200000 (11 sec) \tVAE : Train Lower Bound: 17.464685  (CC : 17.852642 p : -4.158746 MSE : 17.852642)\n",
            "episode: 1900 / 200000 (11 sec) \tVAE : Train Lower Bound: 17.380491  (CC : 18.089630 p : -4.158731 MSE : 18.089630)\n",
            "episode: 2000 / 200000 (11 sec) \tVAE : Train Lower Bound: 17.494728  (CC : 18.287802 p : -4.158706 MSE : 18.287802)\n",
            "episode: 2100 / 200000 (11 sec) \tVAE : Train Lower Bound: 17.685175  (CC : 17.120264 p : -4.158754 MSE : 17.120264)\n",
            "episode: 2200 / 200000 (11 sec) \tVAE : Train Lower Bound: 17.315325  (CC : 16.952997 p : -4.158772 MSE : 16.952997)\n"
          ]
        }
      ]
    },
    {
      "cell_type": "markdown",
      "source": [
        ""
      ],
      "metadata": {
        "id": "nTvuPjqw3X-8"
      }
    },
    {
      "cell_type": "code",
      "source": [
        "try:\n",
        "  %tensorflow_version 2.x\n",
        "except Exception:\n",
        "  pass\n",
        "\n",
        "%load_ext tensorboard"
      ],
      "metadata": {
        "colab": {
          "base_uri": "https://localhost:8080/"
        },
        "id": "uRgtuuyDDdX9",
        "outputId": "b38cbfbf-fb71-4d6a-b815-b44fc4b2e721"
      },
      "execution_count": 51,
      "outputs": [
        {
          "output_type": "stream",
          "name": "stdout",
          "text": [
            "The tensorboard extension is already loaded. To reload it, use:\n",
            "  %reload_ext tensorboard\n"
          ]
        }
      ]
    }
  ]
}
